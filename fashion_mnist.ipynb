{
  "nbformat": 4,
  "nbformat_minor": 0,
  "metadata": {
    "colab": {
      "name": "fashion_mnist.ipynb",
      "provenance": []
    },
    "kernelspec": {
      "name": "python3",
      "display_name": "Python 3"
    },
    "accelerator": "TPU"
  },
  "cells": [
    {
      "cell_type": "code",
      "metadata": {
        "id": "a_Ll55xVbQ0E",
        "colab_type": "code",
        "colab": {}
      },
      "source": [
        "import tensorflow as tf\n",
        "import pandas as pd\n",
        "import numpy as np"
      ],
      "execution_count": 2,
      "outputs": []
    },
    {
      "cell_type": "markdown",
      "metadata": {
        "id": "Ntf1dtZkgN4V",
        "colab_type": "text"
      },
      "source": [
        "*ENABLE TPU *"
      ]
    },
    {
      "cell_type": "code",
      "metadata": {
        "id": "4nlz0kqJbmc1",
        "colab_type": "code",
        "colab": {}
      },
      "source": [
        "train_data=pd.read_csv('fashion-mnist_train.csv')"
      ],
      "execution_count": 3,
      "outputs": []
    },
    {
      "cell_type": "code",
      "metadata": {
        "id": "DeXtiRaBblJz",
        "colab_type": "code",
        "colab": {}
      },
      "source": [
        "x_train=train_data.iloc[:,1:].values\n",
        "x_train=x_train/255\n",
        "y_train=train_data.iloc[:,0:1].values"
      ],
      "execution_count": 4,
      "outputs": []
    },
    {
      "cell_type": "code",
      "metadata": {
        "id": "8RczU9tHb-Q8",
        "colab_type": "code",
        "colab": {
          "base_uri": "https://localhost:8080/",
          "height": 791
        },
        "outputId": "ff756fb7-cb58-4e23-b984-736069b3fd56"
      },
      "source": [
        "tpu = tf.distribute.cluster_resolver.TPUClusterResolver()\n",
        "tf.config.experimental_connect_to_cluster(tpu)\n",
        "tf.tpu.experimental.initialize_tpu_system(tpu)\n",
        "\n",
        "# instantiate a distribution strategy\n",
        "tpu_strategy = tf.distribute.experimental.TPUStrategy(tpu)\n",
        "\n",
        "# instantiating the model in the strategy scope creates the model on the TPU\n",
        "with tpu_strategy.scope():\n",
        "  cnn_model=tf.keras.models.Sequential()\n",
        "  cnn_model.add(tf.keras.layers.Dense(units=2048,activation='relu'))\n",
        "  cnn_model.add(tf.keras.layers.Dropout(0.1))\n",
        "  cnn_model.add(tf.keras.layers.Dense(units=2048,activation='relu'))\n",
        "  cnn_model.add(tf.keras.layers.Dropout(0.1))\n",
        "  cnn_model.add(tf.keras.layers.Dense(units=2048,activation='relu'))\n",
        "  cnn_model.add(tf.keras.layers.Dropout(0.1))\n",
        "  cnn_model.add(tf.keras.layers.Dense(units=2048,activation='relu'))\n",
        "  cnn_model.add(tf.keras.layers.Dropout(0.15))\n",
        "  cnn_model.add(tf.keras.layers.Dense(units=2048,activation='relu'))\n",
        "  cnn_model.add(tf.keras.layers.Dropout(0.15))\n",
        "  cnn_model.add(tf.keras.layers.Dense(units=1024,activation='relu'))\n",
        "  cnn_model.add(tf.keras.layers.Dropout(0.05))\n",
        "  cnn_model.add(tf.keras.layers.Dense(units=1024,activation='relu'))\n",
        "  cnn_model.add(tf.keras.layers.Dropout(0.05))\n",
        "  cnn_model.add(tf.keras.layers.Dense(units=10,activation='softmax'))\n",
        "  cnn_model.compile(optimizer='adam',loss='sparse_categorical_crossentropy',metrics=['sparse_categorical_accuracy'])\n",
        "\n",
        "cnn_model.fit(x_train,y_train,epochs=30,batch_size=64) \n"
      ],
      "execution_count": 6,
      "outputs": [
        {
          "output_type": "stream",
          "text": [
            "938/938 [==============================] - 24s 26ms/step - loss: 0.3338 - sparse_categorical_accuracy: 0.8822\n",
            "Epoch 10/30\n",
            "938/938 [==============================] - 26s 27ms/step - loss: 0.3382 - sparse_categorical_accuracy: 0.8825\n",
            "Epoch 11/30\n",
            "938/938 [==============================] - 25s 27ms/step - loss: 0.3268 - sparse_categorical_accuracy: 0.8841\n",
            "Epoch 12/30\n",
            "938/938 [==============================] - 25s 26ms/step - loss: 0.3151 - sparse_categorical_accuracy: 0.8876\n",
            "Epoch 13/30\n",
            "938/938 [==============================] - 24s 26ms/step - loss: 0.3142 - sparse_categorical_accuracy: 0.8892\n",
            "Epoch 14/30\n",
            "938/938 [==============================] - 24s 26ms/step - loss: 0.2985 - sparse_categorical_accuracy: 0.8942\n",
            "Epoch 15/30\n",
            "938/938 [==============================] - 25s 26ms/step - loss: 0.3001 - sparse_categorical_accuracy: 0.8934\n",
            "Epoch 16/30\n",
            "938/938 [==============================] - 24s 26ms/step - loss: 0.2944 - sparse_categorical_accuracy: 0.8956\n",
            "Epoch 17/30\n",
            "938/938 [==============================] - 25s 26ms/step - loss: 0.2875 - sparse_categorical_accuracy: 0.8993\n",
            "Epoch 18/30\n",
            "938/938 [==============================] - 25s 26ms/step - loss: 0.2984 - sparse_categorical_accuracy: 0.8954\n",
            "Epoch 19/30\n",
            "938/938 [==============================] - 25s 26ms/step - loss: 0.2900 - sparse_categorical_accuracy: 0.8970\n",
            "Epoch 20/30\n",
            "938/938 [==============================] - 25s 27ms/step - loss: 0.2887 - sparse_categorical_accuracy: 0.8989\n",
            "Epoch 21/30\n",
            "938/938 [==============================] - 25s 27ms/step - loss: 0.2768 - sparse_categorical_accuracy: 0.9006\n",
            "Epoch 22/30\n",
            "938/938 [==============================] - 25s 26ms/step - loss: 0.2771 - sparse_categorical_accuracy: 0.9026\n",
            "Epoch 23/30\n",
            "938/938 [==============================] - 26s 27ms/step - loss: 0.2742 - sparse_categorical_accuracy: 0.9022\n",
            "Epoch 24/30\n",
            "938/938 [==============================] - 25s 26ms/step - loss: 0.2682 - sparse_categorical_accuracy: 0.9039\n",
            "Epoch 25/30\n",
            "938/938 [==============================] - 25s 26ms/step - loss: 0.2726 - sparse_categorical_accuracy: 0.9032\n",
            "Epoch 26/30\n",
            "938/938 [==============================] - 25s 26ms/step - loss: 0.2750 - sparse_categorical_accuracy: 0.9043\n",
            "Epoch 27/30\n",
            "938/938 [==============================] - 25s 26ms/step - loss: 0.2752 - sparse_categorical_accuracy: 0.9034\n",
            "Epoch 28/30\n",
            "938/938 [==============================] - 24s 26ms/step - loss: 0.2670 - sparse_categorical_accuracy: 0.9073\n",
            "Epoch 29/30\n",
            "938/938 [==============================] - 25s 26ms/step - loss: 0.2609 - sparse_categorical_accuracy: 0.9079\n",
            "Epoch 30/30\n",
            "938/938 [==============================] - 24s 26ms/step - loss: 0.2614 - sparse_categorical_accuracy: 0.9086\n"
          ],
          "name": "stdout"
        },
        {
          "output_type": "execute_result",
          "data": {
            "text/plain": [
              "<tensorflow.python.keras.callbacks.History at 0x7fc3396a4ba8>"
            ]
          },
          "metadata": {
            "tags": []
          },
          "execution_count": 6
        }
      ]
    },
    {
      "cell_type": "code",
      "metadata": {
        "id": "yYlEcAedi4Gp",
        "colab_type": "code",
        "colab": {}
      },
      "source": [
        "test_data=pd.read_csv('fashion-mnist_test.csv')\n",
        "x_test=test_data.iloc[:,1:].values\n",
        "y_test=test_data.iloc[:,0:1].values\n",
        "\n",
        "from sklearn.metrics import confusion_matrix,accuracy_score"
      ],
      "execution_count": 7,
      "outputs": []
    },
    {
      "cell_type": "code",
      "metadata": {
        "id": "nAjn1o71mpT9",
        "colab_type": "code",
        "colab": {}
      },
      "source": [
        "y_pred=cnn_model.predict(x_test)"
      ],
      "execution_count": 8,
      "outputs": []
    },
    {
      "cell_type": "code",
      "metadata": {
        "id": "_5NLBQZlmveV",
        "colab_type": "code",
        "colab": {}
      },
      "source": [
        "for i in range(y_pred.shape[0]):\n",
        "    res=y_pred[i].max(axis=0)\n",
        "    for j in range(y_pred.shape[1]):\n",
        "        if y_pred[i,j]==res:\n",
        "            y_pred[i,j]=j\n",
        "        else:\n",
        "            y_pred[i,j]=0\n",
        "\n",
        "pred=np.zeros((y_pred.shape[0], 1))\n",
        "\n",
        "for m in range (y_pred.shape[0]):\n",
        "    for n in range(y_pred.shape[1]):\n",
        "        if y_pred[m,n]==n:\n",
        "            pred[m]=n\n",
        "        else:\n",
        "            pass\n",
        "\n",
        "pred=pred.astype(np.int)"
      ],
      "execution_count": 9,
      "outputs": []
    },
    {
      "cell_type": "code",
      "metadata": {
        "id": "UVZJKf-4nIb9",
        "colab_type": "code",
        "colab": {
          "base_uri": "https://localhost:8080/",
          "height": 140
        },
        "outputId": "dd94e97a-d371-4a70-a886-d41e72467c4f"
      },
      "source": [
        "pred"
      ],
      "execution_count": 12,
      "outputs": [
        {
          "output_type": "execute_result",
          "data": {
            "text/plain": [
              "array([[0],\n",
              "       [1],\n",
              "       [2],\n",
              "       ...,\n",
              "       [8],\n",
              "       [8],\n",
              "       [1]])"
            ]
          },
          "metadata": {
            "tags": []
          },
          "execution_count": 12
        }
      ]
    },
    {
      "cell_type": "code",
      "metadata": {
        "id": "rsEGLNglnSBz",
        "colab_type": "code",
        "colab": {
          "base_uri": "https://localhost:8080/",
          "height": 140
        },
        "outputId": "b7b0c0d7-9a98-4746-c120-2e9bb0abbe66"
      },
      "source": [
        "y_test"
      ],
      "execution_count": 13,
      "outputs": [
        {
          "output_type": "execute_result",
          "data": {
            "text/plain": [
              "array([[0],\n",
              "       [1],\n",
              "       [2],\n",
              "       ...,\n",
              "       [8],\n",
              "       [8],\n",
              "       [1]])"
            ]
          },
          "metadata": {
            "tags": []
          },
          "execution_count": 13
        }
      ]
    },
    {
      "cell_type": "code",
      "metadata": {
        "id": "Q1LFsnT5nd_a",
        "colab_type": "code",
        "colab": {}
      },
      "source": [
        "def accuracy(test,hat):\n",
        "  acc=np.zeros((test.shape[0],1))\n",
        "  for i in range(test.shape[0]):\n",
        "    if test[i]==hat[i]:\n",
        "      acc[i]=1\n",
        "    else:\n",
        "      pass\n",
        "  score=np.sum(acc)\n",
        "  accuracy=(score/test.shape[0])*100\n",
        "  print('{} %'.format(accuracy))"
      ],
      "execution_count": 20,
      "outputs": []
    },
    {
      "cell_type": "code",
      "metadata": {
        "id": "iOcP9m8SogF2",
        "colab_type": "code",
        "colab": {
          "base_uri": "https://localhost:8080/",
          "height": 34
        },
        "outputId": "d32140bd-ee6a-4ed0-c5f7-1a9f8f094b20"
      },
      "source": [
        "accuracy(y_test,pred)"
      ],
      "execution_count": 21,
      "outputs": [
        {
          "output_type": "stream",
          "text": [
            "85.69 %\n"
          ],
          "name": "stdout"
        }
      ]
    },
    {
      "cell_type": "code",
      "metadata": {
        "id": "-jlIW91-omPk",
        "colab_type": "code",
        "colab": {}
      },
      "source": [
        ""
      ],
      "execution_count": null,
      "outputs": []
    }
  ]
}